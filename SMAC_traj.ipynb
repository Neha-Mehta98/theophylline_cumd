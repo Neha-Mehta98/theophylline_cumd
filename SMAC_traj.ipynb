{
  "nbformat": 4,
  "nbformat_minor": 0,
  "metadata": {
    "colab": {
      "provenance": []
    },
    "kernelspec": {
      "name": "python3",
      "display_name": "Python 3"
    },
    "language_info": {
      "name": "python"
    }
  },
  "cells": [
    {
      "cell_type": "code",
      "execution_count": null,
      "metadata": {
        "id": "-7Va6n6DzHxM",
        "colab": {
          "base_uri": "https://localhost:8080/"
        },
        "outputId": "bc672b01-1b53-407f-8c9f-270a05226992"
      },
      "outputs": [
        {
          "output_type": "stream",
          "name": "stdout",
          "text": [
            "Mounted at /content/gdrive/\n"
          ]
        }
      ],
      "source": [
        "from google.colab import drive\n",
        "drive.mount('/content/gdrive/')"
      ]
    },
    {
      "cell_type": "code",
      "source": [
        "pip install --upgrade MDAnalysis[analysis]"
      ],
      "metadata": {
        "id": "VkoJ0Dsn15Ph"
      },
      "execution_count": null,
      "outputs": []
    },
    {
      "cell_type": "code",
      "source": [
        "pip install --upgrade MDAnalysisTests"
      ],
      "metadata": {
        "id": "0QR7mcQUAEkP"
      },
      "execution_count": null,
      "outputs": []
    },
    {
      "cell_type": "code",
      "source": [
        "import MDAnalysis as mda\n",
        "from MDAnalysis import Universe\n",
        "from MDAnalysis.tests.datafiles import PDB, GRO, XTC,TPR\n",
        "import pandas as pd\n",
        "import numpy as np\n",
        "import math\n",
        "import matplotlib.pyplot as plt\n",
        "from numpy.linalg import norm\n",
        "from numpy import array"
      ],
      "metadata": {
        "id": "KAQpnrjCFQbR"
      },
      "execution_count": null,
      "outputs": []
    },
    {
      "cell_type": "code",
      "source": [
        "u=mda.Universe('/content/gdrive/MyDrive/SMAC_Theophylline/npt_p_2.tpr','/content/gdrive/MyDrive/SMAC_Theophylline/traj.xtc')\n",
        "\n",
        "for ts in u.trajectory:\n",
        " old=np.zeros(256)\n",
        " a=u.select_atoms(\"resname UNK\")\n",
        " ag=a.select_atoms(\"name N3\")\n",
        " ra=ag.positions\n",
        " cg=a.select_atoms(\"name C6\")\n",
        " ca=cg.positions\n",
        " vec=ca-ra\n",
        " panda1=pd.DataFrame(vec,columns=['xval','yval','zval'])\n",
        " panda=panda1[:257]\n",
        " panda[\"norm\"]=np.sqrt(np.square(panda).sum(axis=1))\n",
        " panda['xvec']=(panda['xval']/panda['norm'])\n",
        " panda['yvec']=(panda['yval']/panda['norm'])\n",
        " panda['zvec']=(panda['zval']/panda['norm'])\n",
        " df=panda[['xvec','yvec','zvec']].copy()\n",
        " m=df[:133]\n",
        " n=df[134:]\n",
        " j=pd.concat([m,n],ignore_index=True)\n",
        " c=df.iloc[133]*j[0:]\n",
        " c['sum']=c['xvec'] + c['yvec'] + c['zvec']\n",
        " d=c['sum'].to_numpy()\n",
        " arccos_Values=np.arccos(d)\n",
        " ##plt.show()\n",
        " old=np.add(old,arccos_Values)\n",
        " #plt.hist(old, bins='auto')\n",
        "\n",
        "print(old)\n",
        "plt.hist(old, bins='auto')"
      ],
      "metadata": {
        "id": "poVmCf_GAP0R"
      },
      "execution_count": null,
      "outputs": []
    },
    {
      "cell_type": "code",
      "source": [
        "import matplotlib.pyplot as plt\n",
        "import seaborn as sns\n",
        "df2=pd.DataFrame(old,columns=['old'])\n",
        "print(old)\n",
        "ax=sns.distplot(df2['old'], hist=True ,kde=True,\n",
        "             bins=25, color = 'darkblue',\n",
        "             hist_kws={'edgecolor':'white'},\n",
        "             kde_kws={'linewidth': 3})\n",
        "kdeline = ax.lines[0]\n",
        "xs = kdeline.get_xdata()\n",
        "ys = kdeline.get_ydata()\n",
        "mode_idx = np.argmax(ys)\n",
        "ax.vlines(xs[mode_idx], 0, ys[mode_idx], color='tomato', ls='--', lw=2)\n",
        "plt.xlabel('angle(in rad)')\n",
        "plt.ylabel('Probability')\n",
        "plt.title('Probability Distribution of angle')\n",
        "plt.savefig(\"/content/gdrive/MyDrive/SMAC_Theophylline/angle_distribution_curve.jpg\")"
      ],
      "metadata": {
        "id": "PYMuqwfh4EoL"
      },
      "execution_count": null,
      "outputs": []
    }
  ]
}